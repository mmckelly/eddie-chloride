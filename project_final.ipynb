{
 "cells": [
  {
   "cell_type": "code",
   "execution_count": 3,
   "metadata": {},
   "outputs": [],
   "source": [
    "import pandas as pd #import pandas\n",
    "import numpy as np #import numpy\n",
    "import math #import math\n",
    "import os #import os\n",
    "from datetime import datetime #import datetime\n",
    "import matplotlib.pyplot as plt\n",
    "import matplotlib.dates"
   ]
  },
  {
   "cell_type": "code",
   "execution_count": 4,
   "metadata": {},
   "outputs": [],
   "source": [
    "#this function is from stack exchange: \n",
    "#https://stackoverflow.com/questions/19859282/check-if-a-string-contains-a-number\n",
    "def hasNumbers(inputString): #defines a function testing whether a string has numbers in it\n",
    "    return any(char.isdigit() for char in inputString) "
   ]
  },
  {
   "cell_type": "code",
   "execution_count": 5,
   "metadata": {},
   "outputs": [],
   "source": [
    "cwd = os.getcwd()  # Name the current working directory cwd\n",
    "files = os.listdir(cwd) #Makes and names a list of the files in the working directory"
   ]
  },
  {
   "cell_type": "code",
   "execution_count": 6,
   "metadata": {},
   "outputs": [],
   "source": [
    "#this chunk creates a dictionary of each data-containing sheet in the directory\n",
    "#with keys of the sheet name and values of the sheet as a dataframe\n",
    "#namesheets creates a list of the names of each sheet.\n",
    "\n",
    "nameSheets = list() #initializes a list of the names of each sheet\n",
    "dict_of_dfs = dict()\n",
    "\n",
    "for filename in files: #iterating over the list of files\n",
    "    if filename.endswith(\".xls\"): #it seems that .xls and .xlsx need to be treated differently. \n",
    "                                  #Directory contains both\n",
    "        name = pd.ExcelFile(filename) #names the file\n",
    "        \n",
    "        for sheet in name.sheet_names: #iterates through each sheet in the file. There is a different and\n",
    "                                        #unpredictable number of sheets in each file.\n",
    "            if hasNumbers(sheet) == True and 'RADIO' not in sheet and \"Sheet\" not in sheet: \n",
    "                        #if the sheet has a number in it and does not include the strings \"RADIO\" or \"Sheet\",\n",
    "                        #append sheet name to nameSheets\n",
    "                nameSheets.append(sheet) #add the sheet to the list of names of sheets\n",
    "                df = pd.read_excel(name, sheet, header = None) #read the sheet and produce a dataframe df,\n",
    "                                                               #without a header row\n",
    "                dict_of_dfs[sheet] = df # storing these as a dict was an idea my friend Gabe suggested,\n",
    "                                        #because I couldn't figure out how to name them all\n",
    "                    \n",
    "#makes a list of lists containing the revised first row (headers) of all the sheets and turns it into a dataframe\n",
    "\n",
    "headerList = list()\n",
    "subheaderList = list()\n",
    "for key in dict_of_dfs: #iterates through each sheet\n",
    "    headers = dict_of_dfs[key].iloc[0] # saves the Series from column 0 as headers\n",
    "    headerList.append(headers) #appends to headerList\n",
    "    subheaders = dict_of_dfs[key].iloc[1] # saves the Series from row 1 as subheaders\n",
    "    subheaderList.append(subheaders) #appends to headerList\n",
    "headerCheck = pd.DataFrame(headerList) #makes a dataframe headerCheck from headerList (list of lists)\n",
    "subheaderCheck = pd.DataFrame(subheaderList) #makes a dataframe subheaderCheck from headerList (list of lists)\n",
    "col0names = headerCheck[0].unique()\n",
    "col1names = headerCheck[1].unique()\n",
    "col2names = headerCheck[2].unique()"
   ]
  },
  {
   "cell_type": "code",
   "execution_count": 7,
   "metadata": {},
   "outputs": [
    {
     "data": {
      "text/plain": [
       "array([nan, ' ', '  ', 'Date', 'Collect    '], dtype=object)"
      ]
     },
     "execution_count": 7,
     "metadata": {},
     "output_type": "execute_result"
    }
   ],
   "source": [
    "col0names"
   ]
  },
  {
   "cell_type": "code",
   "execution_count": 8,
   "metadata": {},
   "outputs": [
    {
     "data": {
      "text/plain": [
       "array([nan, ' ', 'Location', 'Sampling', 'Time ', 'Time'], dtype=object)"
      ]
     },
     "execution_count": 8,
     "metadata": {},
     "output_type": "execute_result"
    }
   ],
   "source": [
    "col1names"
   ]
  },
  {
   "cell_type": "code",
   "execution_count": 9,
   "metadata": {},
   "outputs": [
    {
     "data": {
      "text/plain": [
       "array(['1 BOD', 'BOD', 'DO  ', 'Sampling', 'Time '], dtype=object)"
      ]
     },
     "execution_count": 9,
     "metadata": {},
     "output_type": "execute_result"
    }
   ],
   "source": [
    "col2names"
   ]
  },
  {
   "cell_type": "code",
   "execution_count": 10,
   "metadata": {},
   "outputs": [],
   "source": [
    "pd.set_option(\"display.max_rows\", 216, \"display.max_columns\", 131) \n",
    "#headerCheck"
   ]
  },
  {
   "cell_type": "code",
   "execution_count": 11,
   "metadata": {},
   "outputs": [],
   "source": [
    "pd.set_option(\"display.max_rows\", 216, \"display.max_columns\", 131) \n",
    "#subheaderCheck"
   ]
  },
  {
   "cell_type": "code",
   "execution_count": 12,
   "metadata": {},
   "outputs": [],
   "source": [
    "#puts column labels in the same row, reduces multiple names in column 0, 1, and 2 to just Station or Date or Time\n",
    "\n",
    "for key in dict_of_dfs:\n",
    "    if type(dict_of_dfs[key].iloc[0,0]) == float:    \n",
    "        if math.isnan(dict_of_dfs[key].iloc[0,0]):\n",
    "            dict_of_dfs[key].iloc[0,0] = dict_of_dfs[key].iloc[1,0]\n",
    "    if dict_of_dfs[key].iloc[0,0] == ' ' or dict_of_dfs[key].iloc[0,0] == '  ':\n",
    "        dict_of_dfs[key].iloc[0,0] = dict_of_dfs[key].iloc[1,0]\n",
    "    if dict_of_dfs[key].iloc[0,0] == 'Collect    ':\n",
    "        dict_of_dfs[key].iloc[0,0] = 'Date'\n",
    "        \n",
    "#repeats above, for column 1 (station or time) and column 2 (station, when column 1 is time)\n",
    "for key in dict_of_dfs: #iterate through each sheet\n",
    "    if type(dict_of_dfs[key].iloc[0,1]) == float: #all NaNs are floats so this looks for floats\n",
    "        if math.isnan(dict_of_dfs[key].iloc[0,1]): #checks for NaN\n",
    "            dict_of_dfs[key].iloc[0,1] = dict_of_dfs[key].iloc[1,1] #copies value below over NaN\n",
    "    if dict_of_dfs[key].iloc[0,1] == ' ' or dict_of_dfs[key].iloc[0,1] == '  ': #checks for particular blanks, \n",
    "                                                                                #identified in col1names\n",
    "        dict_of_dfs[key].iloc[0,1] = dict_of_dfs[key].iloc[1,1] #copies value below over blank\n",
    "    if dict_of_dfs[key].iloc[0,1] == 'Sampling' or dict_of_dfs[key].iloc[0,1] == 'Location': #checks for alt labels\n",
    "        dict_of_dfs[key].iloc[0,1] = 'Station' #replaces with standard label\n",
    "    if dict_of_dfs[key].iloc[0,1] == 'Time ': #checks for alternate label\n",
    "        dict_of_dfs[key].iloc[0,1] = 'Time' #replaces with standard label\n",
    "    if dict_of_dfs[key].iloc[0,2] == 'Sampling': #checks for alternate label\n",
    "        dict_of_dfs[key].iloc[0,2] = 'Station' #replaces with standard label"
   ]
  },
  {
   "cell_type": "code",
   "execution_count": 13,
   "metadata": {},
   "outputs": [],
   "source": [
    "#standardizes the names of any column storing chloride data and\n",
    "#distinguishes between numerical data and quality control notes\n",
    "\n",
    "#by examination of headercheck (above), I determined that chloride data is stored in columns titled \n",
    "#'10 Cl- ', 'Cl', 'Chloride', 'CL', and 'CLx' where x is various numbers of spaces.\n",
    "\n",
    "#similarly, I determined by examination of subheadercheck that quality control notes were in columns\n",
    "#indicated by various capitalizations of 'qual code', and that all capitalizations' had 'ode' in common.\n",
    "\n",
    "headerClList = list()\n",
    "clSubheadCheck = list()\n",
    "clHeadCheck = list()\n",
    "l = list()\n",
    "m = list()\n",
    "for key in dict_of_dfs:\n",
    "    headersCl = dict_of_dfs[key].iloc[0] # saves the Series from col 0 as headers               \n",
    "\n",
    "    for i in range(len(headersCl)):\n",
    "        if dict_of_dfs[key].iloc[0,i] == '10 Cl-'\\\n",
    "        or dict_of_dfs[key].iloc[0,i] == 'Cl'\\\n",
    "        or 'CL' in str(dict_of_dfs[key].iloc[0,i])\\\n",
    "        or dict_of_dfs[key].iloc[0,i] == 'Chloride': \n",
    "            dict_of_dfs[key].iloc[0,i] = 'Chloride'\n",
    "            if 'ode' in str(dict_of_dfs[key].iloc[1,i]):           \n",
    "                dict_of_dfs[key].iloc[0,i] = 'Chloride Qual Code'  \n",
    "            clSubhead = (dict_of_dfs[key].iloc[1,i])               \n",
    "            clHead = (dict_of_dfs[key].iloc[0,i])                  \n",
    "            clSubheadCheck.append(clSubhead)                        \n",
    "            clHeadCheck.append(clHead)\n",
    "\n",
    "#Now that the header rows have been sorted out, make them headers again:\n",
    "for key in dict_of_dfs: #iterate through sheets\n",
    "    dict_of_dfs[key].columns = dict_of_dfs[key].iloc[0] #assign first row as column headers"
   ]
  },
  {
   "cell_type": "code",
   "execution_count": 14,
   "metadata": {},
   "outputs": [
    {
     "data": {
      "text/plain": [
       "[('WW1970', pandas._libs.tslibs.timestamps.Timestamp),\n",
       " ('WW1972', pandas._libs.tslibs.timestamps.Timestamp),\n",
       " ('WW1973', pandas._libs.tslibs.timestamps.Timestamp),\n",
       " ('WW1974', pandas._libs.tslibs.timestamps.Timestamp),\n",
       " ('WW1975', str),\n",
       " ('1976', str),\n",
       " ('1977', str),\n",
       " ('WW78BR', str),\n",
       " ('WW79BR', str),\n",
       " ('WW80BR', str),\n",
       " ('1981', pandas._libs.tslibs.timestamps.Timestamp),\n",
       " ('1982', pandas._libs.tslibs.timestamps.Timestamp),\n",
       " ('1983', pandas._libs.tslibs.timestamps.Timestamp),\n",
       " ('1984', pandas._libs.tslibs.timestamps.Timestamp),\n",
       " ('1985', pandas._libs.tslibs.timestamps.Timestamp),\n",
       " ('1986', pandas._libs.tslibs.timestamps.Timestamp),\n",
       " ('1987', pandas._libs.tslibs.timestamps.Timestamp),\n",
       " ('1988', pandas._libs.tslibs.timestamps.Timestamp),\n",
       " ('1989', pandas._libs.tslibs.timestamps.Timestamp),\n",
       " ('1990', pandas._libs.tslibs.timestamps.Timestamp),\n",
       " ('1991', pandas._libs.tslibs.timestamps.Timestamp),\n",
       " ('1992', pandas._libs.tslibs.timestamps.Timestamp),\n",
       " ('1993', pandas._libs.tslibs.timestamps.Timestamp),\n",
       " ('1994', pandas._libs.tslibs.timestamps.Timestamp),\n",
       " ('1995', pandas._libs.tslibs.timestamps.Timestamp),\n",
       " ('1996', pandas._libs.tslibs.timestamps.Timestamp),\n",
       " ('1997', pandas._libs.tslibs.timestamps.Timestamp),\n",
       " ('1998', pandas._libs.tslibs.timestamps.Timestamp),\n",
       " ('1999', pandas._libs.tslibs.timestamps.Timestamp),\n",
       " ('2000', pandas._libs.tslibs.timestamps.Timestamp),\n",
       " ('2017', datetime.datetime),\n",
       " ('2018', datetime.datetime),\n",
       " ('2018 (2)', datetime.datetime),\n",
       " ('2019', datetime.datetime),\n",
       " ('August 2003', datetime.datetime),\n",
       " ('September 2003', datetime.datetime),\n",
       " ('October 2003', datetime.datetime),\n",
       " ('November 2003', datetime.datetime),\n",
       " ('December 2003', datetime.datetime),\n",
       " ('January 2004', datetime.datetime),\n",
       " ('February 2004', datetime.datetime),\n",
       " ('March 2004', datetime.datetime),\n",
       " ('April 2004', datetime.datetime),\n",
       " ('May 2004', datetime.datetime),\n",
       " ('June 2004', datetime.datetime),\n",
       " ('July 2004', datetime.datetime),\n",
       " ('August 2004', datetime.datetime),\n",
       " ('September 2004', datetime.datetime),\n",
       " ('October 2004', datetime.datetime),\n",
       " ('November 2004 ', datetime.datetime),\n",
       " ('December 2004', datetime.datetime),\n",
       " ('January 2005', datetime.datetime),\n",
       " ('February 2005', datetime.datetime),\n",
       " ('March 2005', datetime.datetime),\n",
       " ('April 2005', datetime.datetime),\n",
       " ('May2005', datetime.datetime),\n",
       " ('June2005', datetime.datetime),\n",
       " ('July2005', datetime.datetime),\n",
       " ('August2005', datetime.datetime),\n",
       " ('September2005', datetime.datetime),\n",
       " ('October2005  ', datetime.datetime),\n",
       " ('November2005', datetime.datetime),\n",
       " ('December2005', datetime.datetime),\n",
       " ('January 2006', datetime.datetime),\n",
       " ('February 2006', datetime.datetime),\n",
       " ('March 2006', datetime.datetime),\n",
       " ('April 2006', datetime.datetime),\n",
       " ('May2006', datetime.datetime),\n",
       " ('June2006', datetime.datetime),\n",
       " ('July2006', datetime.datetime),\n",
       " ('August2006', datetime.datetime),\n",
       " ('September2006', datetime.datetime),\n",
       " ('October2006', datetime.datetime),\n",
       " ('November2006', datetime.datetime),\n",
       " ('December2006', datetime.datetime),\n",
       " ('January 2007', datetime.datetime),\n",
       " ('February 2007', datetime.datetime),\n",
       " ('March 2007', datetime.datetime),\n",
       " ('April 2007', datetime.datetime),\n",
       " ('May2007', datetime.datetime),\n",
       " ('June2007', datetime.datetime),\n",
       " ('July2007', datetime.datetime),\n",
       " ('August2007', datetime.datetime),\n",
       " ('September2007', datetime.datetime),\n",
       " ('October2007', datetime.datetime),\n",
       " ('November2007', datetime.datetime),\n",
       " ('December2007', datetime.datetime),\n",
       " ('January 2008', datetime.datetime),\n",
       " ('February 2008', datetime.datetime),\n",
       " ('March 2008', datetime.datetime),\n",
       " ('April 2008', datetime.datetime),\n",
       " ('May2008', datetime.datetime),\n",
       " ('June2008', datetime.datetime),\n",
       " ('July2008', datetime.datetime),\n",
       " ('August 2008', datetime.datetime),\n",
       " ('September 2008', datetime.datetime),\n",
       " ('October 2008', datetime.datetime),\n",
       " ('November 2008', datetime.datetime),\n",
       " ('December 2008', datetime.datetime),\n",
       " ('January 2001', pandas._libs.tslibs.timestamps.Timestamp),\n",
       " ('February 2001', pandas._libs.tslibs.timestamps.Timestamp),\n",
       " ('March 2001', datetime.datetime),\n",
       " ('April 2001', datetime.datetime),\n",
       " ('May 2001', datetime.datetime),\n",
       " ('June 2001', datetime.datetime),\n",
       " ('July 2001', datetime.datetime),\n",
       " ('August 2001', datetime.datetime),\n",
       " ('September 2001', datetime.datetime),\n",
       " ('October 2001', datetime.datetime),\n",
       " ('November 2001', datetime.datetime),\n",
       " ('December 2001', datetime.datetime),\n",
       " ('January 2002', datetime.datetime),\n",
       " ('February 2002', datetime.datetime),\n",
       " ('March 2002', datetime.datetime),\n",
       " ('April 2002', datetime.datetime),\n",
       " ('May 2002', datetime.datetime),\n",
       " ('June 2002', datetime.datetime),\n",
       " ('July 2002', datetime.datetime),\n",
       " ('August 2002', datetime.datetime),\n",
       " ('September 2002', datetime.datetime),\n",
       " ('October 2002', datetime.datetime),\n",
       " ('November 2002', datetime.datetime),\n",
       " ('December 2002', datetime.datetime),\n",
       " ('January 2003', datetime.datetime),\n",
       " ('February 2003', datetime.datetime),\n",
       " ('March 2003', datetime.datetime),\n",
       " ('April 2003', datetime.datetime),\n",
       " ('May 2003', datetime.datetime),\n",
       " ('June 2003', datetime.datetime),\n",
       " ('July 2003', datetime.datetime),\n",
       " ('January 2009', datetime.datetime),\n",
       " ('February 2009', datetime.datetime),\n",
       " ('March 2009', datetime.datetime),\n",
       " ('April 2009', datetime.datetime),\n",
       " ('May2009', datetime.datetime),\n",
       " ('June2009', datetime.datetime),\n",
       " ('July2009', datetime.datetime),\n",
       " ('August 2009', datetime.datetime),\n",
       " ('September 2009', datetime.datetime),\n",
       " ('October 2009', datetime.datetime),\n",
       " ('November 2009', datetime.datetime),\n",
       " ('December 2009', datetime.datetime),\n",
       " ('January 2010', datetime.datetime),\n",
       " ('February 2010', datetime.datetime),\n",
       " ('March 2010', datetime.datetime),\n",
       " ('April 2010', datetime.datetime),\n",
       " ('May 2010', datetime.datetime),\n",
       " ('June2010', datetime.datetime),\n",
       " ('July2010', datetime.datetime),\n",
       " ('August 2010', datetime.datetime),\n",
       " ('September 2010', datetime.datetime),\n",
       " ('October 2010', datetime.datetime),\n",
       " ('November 2010', datetime.datetime),\n",
       " ('December 2010', datetime.datetime),\n",
       " ('January 2011', datetime.datetime),\n",
       " ('February 2011', datetime.datetime),\n",
       " ('March 2011', datetime.datetime),\n",
       " ('April 2011', datetime.datetime),\n",
       " ('May 2011', datetime.datetime),\n",
       " ('June2011', datetime.datetime),\n",
       " ('July2011', datetime.datetime),\n",
       " ('August 2011', datetime.datetime),\n",
       " ('September 2011', datetime.datetime),\n",
       " ('October 2011', datetime.datetime),\n",
       " ('November 2011', datetime.datetime),\n",
       " ('December 2011', datetime.datetime),\n",
       " ('January 2012', datetime.datetime),\n",
       " ('February 2012', datetime.datetime),\n",
       " ('March 2012', datetime.datetime),\n",
       " ('April 2012', datetime.datetime),\n",
       " ('May 2012', datetime.datetime),\n",
       " ('June2012', datetime.datetime),\n",
       " ('July2012', datetime.datetime),\n",
       " ('August 2012', datetime.datetime),\n",
       " ('September 2012', datetime.datetime),\n",
       " ('October 2012', datetime.datetime),\n",
       " ('November 2012', datetime.datetime),\n",
       " ('December 2012', datetime.datetime),\n",
       " ('January 2013', datetime.datetime),\n",
       " ('February 2013', datetime.datetime),\n",
       " ('March 2013', datetime.datetime),\n",
       " ('April 2013', datetime.datetime),\n",
       " ('May 2013', datetime.datetime),\n",
       " ('June2013', datetime.datetime),\n",
       " ('July2013', datetime.datetime),\n",
       " ('August 2013', datetime.datetime),\n",
       " ('September 2013', datetime.datetime),\n",
       " ('October 2013', datetime.datetime),\n",
       " ('November 2013', datetime.datetime),\n",
       " ('December 2013', datetime.datetime),\n",
       " ('January 2014', datetime.datetime),\n",
       " ('February 2014', datetime.datetime),\n",
       " ('March 2014', datetime.datetime),\n",
       " ('April 2014', datetime.datetime),\n",
       " ('May 2014', datetime.datetime),\n",
       " ('June2014', datetime.datetime),\n",
       " ('July2014', datetime.datetime),\n",
       " ('August 2014', datetime.datetime),\n",
       " ('September 2014', datetime.datetime),\n",
       " ('October 2014', datetime.datetime),\n",
       " ('November 2014', datetime.datetime),\n",
       " ('December 2014', datetime.datetime),\n",
       " ('January 2015', datetime.datetime),\n",
       " ('February 2015', datetime.datetime),\n",
       " ('March 2015', datetime.datetime),\n",
       " ('April 2015', datetime.datetime),\n",
       " ('May 2015', datetime.datetime),\n",
       " ('June 2015', datetime.datetime),\n",
       " ('July 2015', datetime.datetime),\n",
       " ('August 2015', datetime.datetime),\n",
       " ('September 2015', datetime.datetime),\n",
       " ('October 2015', datetime.datetime),\n",
       " ('November 2015', datetime.datetime),\n",
       " ('December 2015', datetime.datetime),\n",
       " ('2016', datetime.datetime),\n",
       " ('2017 Data', datetime.datetime)]"
      ]
     },
     "execution_count": 14,
     "metadata": {},
     "output_type": "execute_result"
    }
   ],
   "source": [
    "#Find the sheets with date formatted as something other than Timestamp or datetime\n",
    "typelist=list() #makes an empty list, typelist\n",
    "for key in dict_of_dfs: #iterates through sheets\n",
    "    x = list() #makes a list x\n",
    "    x.append(key) #adds the current key to x\n",
    "    x.append(type(dict_of_dfs[key].iloc[3,0])) #adds the type of this sheet's location 3,0 to list x\n",
    "    typelist.append(tuple(x)) #turns list x into a tuple and adds the tuple to typelist\n",
    "typelist"
   ]
  },
  {
   "cell_type": "code",
   "execution_count": 15,
   "metadata": {},
   "outputs": [],
   "source": [
    "#some dates have a month but no day recorded, and this section handles that too.\n",
    "def fixDateString(sheet):\n",
    "    for index, s in enumerate(dict_of_dfs[sheet].iloc[:,0]): #Gabe taught me this structure\n",
    "        if type(s) == str and s[3:5] == ' 0':    #checks for a date as string with a month but no day\n",
    "            s = s[0:3]+s[6:]                     #excises bad date\n",
    "            if s[0:1] == ' ':                    #checks whether month is written badly\n",
    "                s = '0' + s[1:]                  #if so, adds 0\n",
    "            s = datetime.strptime(s, '%m/%y')    #converts to date time in month/year format\n",
    "        elif type(s) == str and len(s)>5 and s[0:1] == ' ': #if type is string, length greater than month-day, \n",
    "                                                            #and badly formatted month\n",
    "            s = '0' + s[1:]                      #fixes month formatting\n",
    "            s = datetime.strptime(s, '%m/%d/%y') #converts to date time\n",
    "        elif type(s) == str and len(s)>5:        #if type is string, length greater than month-day, \n",
    "                                                 #and month not formatted badly\n",
    "            s = datetime.strptime(s, '%m/%d/%y') #converts to date time\n",
    "        else:                                    #before I added this, the columns were \n",
    "                                                 #not maintaining correct row alignment\n",
    "            s = s                                #it's a mystery\n",
    "        dict_of_dfs[sheet].iloc[:,0][index] = s  #whatever happened in the last 4 statements, \n",
    "                                                 #assign the new value to replace the old s."
   ]
  },
  {
   "cell_type": "code",
   "execution_count": 16,
   "metadata": {},
   "outputs": [],
   "source": [
    "#repeat for all sheets with dates as strings. \n",
    "fixDateString('WW1975')\n",
    "fixDateString('1976')\n",
    "fixDateString('1977')\n",
    "fixDateString('WW78BR')\n",
    "fixDateString('WW79BR')\n",
    "fixDateString('WW80BR')"
   ]
  },
  {
   "cell_type": "code",
   "execution_count": 17,
   "metadata": {},
   "outputs": [],
   "source": [
    "#this section extracts the date, station, and chloride columns for each sheet and appends them to a single df.\n",
    "#Then, it drops any row with a NaN in the row, any duplicate row, any row in which the value in the \n",
    "#'Station' column is 'Station' (as opposed to a station number), and re-indexes the new dataframe.\n",
    "\n",
    "singledf = pd.DataFrame()\n",
    "for key in dict_of_dfs:\n",
    "    newdf = pd.DataFrame(dict_of_dfs[key][['Date', 'Station', 'Chloride']])\n",
    "    singledf = pd.concat([singledf,newdf])\n",
    "\n",
    "singledf = singledf.dropna()\n",
    "singledf = singledf.drop_duplicates()\n",
    "singledf = singledf.loc[singledf['Station'] != 'Station', ['Date','Station', 'Chloride']]\n",
    "singledf = singledf.reset_index()\n",
    "stationValues = singledf.Station.unique()"
   ]
  },
  {
   "cell_type": "code",
   "execution_count": 18,
   "metadata": {},
   "outputs": [
    {
     "data": {
      "text/plain": [
       "array([12, 13, 14, 15, 16, 17, 18, 19, 20, 21, 22, 23, 24, 25, 26, 27, 28,\n",
       "       29, 30, 32, 31, 33, 34, 35, 40, 41, 44, 45, 46, 47, 42, 43, 36, 37,\n",
       "       38, 39, 61, 49, 55, 50, 51, 52, 53, 54, 56, 57, 58, 60, 59, 63, 64,\n",
       "       65, 66, 67, 68, 69, 70, 71, 72, 77, 78, 79, 80, 8.4, 48, 73, 74,\n",
       "       75, 76, 85, 90, 89, 82, 86, 'point ', 'WW_50', 'WW_86', 'WW_54',\n",
       "       'WW_76', 'WW_58', 'WW_59', 'WW_43', 'WW_34', 'WW_36', 'WW_37',\n",
       "       'WW_73', 'WW_46', 'WW_74', 'WW_39', 'WW_40', 'WW_75', 'WW_41',\n",
       "       'WW_42', 'WW_48', 'WW_89', 'WW_80', 'WW_18', 'WW_13', 'WW_12',\n",
       "       'WW_77', 'WW_78', 'WW_17', 'WW_19', 'WW_20', 'WW_24', 'WW_21',\n",
       "       'WW_29', 'WW_22', 'WW_63', 'WW_64', 'WW_90', 'WW_23', 'WW_49',\n",
       "       'WW_55', 'WW_56', 'WW_79', 'WW_52', 'WW_57', 'WW_30', 'WW_31',\n",
       "       'WW_32', 'WW_35', 'WW_49 ', 'WW_50 ', 'WW_86 ', 'WW_52 ', 'WW_55 ',\n",
       "       'WW_56 ', 'WW_54 ', 'WW_76 ', 'WW_59 ', 'WW_43 ', 'WW_31 ',\n",
       "       'WW_32 ', 'WW_34 ', 'WW_36 ', 'WW_37 ', 'WW_73 ', 'WW_46 ',\n",
       "       'WW_74 ', 'WW_39 ', 'WW_40 ', 'WW_75 ', 'WW_41 ', 'WW_42 ',\n",
       "       'WW_48 ', 'WW_64 ', 'WW_89 ', 'WW_90 ', 'WW_80 ', 'WW_18 ',\n",
       "       'WW_13 ', 'WW_12 ', 'WW_77 ', 'WW_78 ', 'WW_17 ', 'WW_19 ',\n",
       "       'WW_20 ', 'WW_24 ', 'WW_21 ', 'WW_23 ', 'WW_29 ', 'WW_22 ',\n",
       "       'WW_57 ', 'WW_63 ', 'WW_79 ', 'WW_35 ', 'WW_58 ', ' ', 'point',\n",
       "       'WW_91 ', 'WW_92 ', 'WW_93 ', 'WW_94 ', 'WW_95 ', 'WW_96 ',\n",
       "       'WW_30 ', 'WW_100', 'WW_108', 'WW_112', 'WW_92', 'WW_99', 'WW_109',\n",
       "       'WW_110', 'WW_111', 'WW_91', 'WW_96', 'JULY 1ST, ',\n",
       "       'November 13TH, 2018', 'WW_105', 'WW_104', 'WW_103', 'WW_102',\n",
       "       'WW_101', 'WW_99 ', '      ', 'WW_97 ', 'WW_106', 'WW_97',\n",
       "       'WW_107', 'WW_109 ', 'WW_113'], dtype=object)"
      ]
     },
     "execution_count": 18,
     "metadata": {},
     "output_type": "execute_result"
    }
   ],
   "source": [
    "stationValues"
   ]
  },
  {
   "cell_type": "code",
   "execution_count": 19,
   "metadata": {},
   "outputs": [],
   "source": [
    "#This section further cleans up the station column of singledf:\n",
    "#Based on examination of stationValues, this chunk:\n",
    "#Deletes rows with station string longer than 7 characters \n",
    "#Deletes rows where station has no digit\n",
    "##those two remove everything that isn't an int or of the form 'WW_int' or 'WW_int '\n",
    "##so then, uses a slice to remove 'WW_\" and if it ends with (' ') then slices off the last character.\n",
    "#The basic structure here is: find offending strings and either slice off offending characters or \n",
    "#replace offending string with 'remove', then drop rows with 'remove' (or 'ove', in the case of some rows that\n",
    "#got replaced with remove and then sliced).\n",
    "\n",
    "for i in range(0,len(singledf)):\n",
    "    if type(singledf.iloc[i, 2]) == str and len(singledf.iloc[i, 2]) > 7:\n",
    "        singledf.iloc[i, 2] = 'remove'\n",
    "    if type(singledf.iloc[i, 2]) == str and hasNumbers(singledf.iloc[i, 2]) == False:\n",
    "        singledf.iloc[i, 2] = 'remove'\n",
    "    if type(singledf.iloc[i, 2]) == str:\n",
    "        singledf.iloc[i, 2]=singledf.iloc[i, 2][3:]\n",
    "    if type(singledf.iloc[i, 2]) == str and singledf.iloc[i, 2].endswith(' ') == True:\n",
    "        singledf.iloc[i, 2]=singledf.iloc[i, 2][:-2]\n",
    "    if type(singledf.iloc[i, 2]) != str:\n",
    "        singledf.iloc[i, 2]=str(singledf.iloc[i, 2])\n",
    "singledf = singledf.loc[singledf['Station'] != 'remove', ['Date','Station', 'Chloride']]\n",
    "singledf = singledf.loc[singledf['Station'] != 'ove', ['Date','Station', 'Chloride']]\n",
    "singledf = singledf.reset_index()"
   ]
  },
  {
   "cell_type": "code",
   "execution_count": 20,
   "metadata": {},
   "outputs": [],
   "source": [
    "#this can be uncommented to produce an Excel file of the new dataframe which is useful to me but not this project!\n",
    "#singledf.to_excel('MWRD_Chloride.xlsx')"
   ]
  },
  {
   "cell_type": "code",
   "execution_count": 21,
   "metadata": {},
   "outputs": [],
   "source": [
    "#matplotlib does not plot datetimes so this creates a new column for plottable dates.\n",
    "singledf['matplotDate'] = singledf['Date']"
   ]
  },
  {
   "cell_type": "code",
   "execution_count": 22,
   "metadata": {},
   "outputs": [
    {
     "name": "stderr",
     "output_type": "stream",
     "text": [
      "C:\\Users\\mmcke\\anaconda3\\lib\\site-packages\\ipykernel_launcher.py:8: SettingWithCopyWarning: \n",
      "A value is trying to be set on a copy of a slice from a DataFrame\n",
      "\n",
      "See the caveats in the documentation: https://pandas.pydata.org/pandas-docs/stable/user_guide/indexing.html#returning-a-view-versus-a-copy\n",
      "  \n"
     ]
    }
   ],
   "source": [
    "#this puts plottable dates in the plottable date column. I looked up the try/except structure after remembering\n",
    "#it in one of the stubs from a class excercise. This section also counts the number of successful entries (k) &\n",
    "#records failed entries in a list l\n",
    "k = 1\n",
    "l = list()\n",
    "for i in range (0, len(singledf)):\n",
    "    try:\n",
    "        singledf.matplotDate[i] = matplotlib.dates.date2num(singledf.Date[i])\n",
    "        k = k+1\n",
    "    except AttributeError as err:\n",
    "        l.append(i) "
   ]
  },
  {
   "cell_type": "code",
   "execution_count": 23,
   "metadata": {},
   "outputs": [
    {
     "data": {
      "text/plain": [
       "28097"
      ]
     },
     "execution_count": 23,
     "metadata": {},
     "output_type": "execute_result"
    }
   ],
   "source": [
    "k"
   ]
  },
  {
   "cell_type": "code",
   "execution_count": 24,
   "metadata": {},
   "outputs": [
    {
     "data": {
      "text/plain": [
       "[22443]"
      ]
     },
     "execution_count": 24,
     "metadata": {},
     "output_type": "execute_result"
    }
   ],
   "source": [
    "l"
   ]
  },
  {
   "cell_type": "code",
   "execution_count": 25,
   "metadata": {},
   "outputs": [],
   "source": [
    "#This section excises row with the failed entry and resets the index\n",
    "singledf = pd.concat([singledf.iloc[:22443], singledf.iloc[22444:]])\n",
    "singledf = singledf.reset_index()"
   ]
  },
  {
   "cell_type": "code",
   "execution_count": 26,
   "metadata": {},
   "outputs": [
    {
     "name": "stderr",
     "output_type": "stream",
     "text": [
      "C:\\Users\\mmcke\\anaconda3\\lib\\site-packages\\ipykernel_launcher.py:5: SettingWithCopyWarning: \n",
      "A value is trying to be set on a copy of a slice from a DataFrame\n",
      "\n",
      "See the caveats in the documentation: https://pandas.pydata.org/pandas-docs/stable/user_guide/indexing.html#returning-a-view-versus-a-copy\n",
      "  \"\"\"\n"
     ]
    }
   ],
   "source": [
    "#This section finds rows with a string entry in the Chloride column, replaces the string with 'remove',\n",
    "#and excises that row.\n",
    "for i in range(0, len(singledf)):\n",
    "    if type(singledf.Chloride[i]) == str:\n",
    "        singledf.Chloride[i] = 'remove'\n",
    "singledf = singledf.loc[singledf['Chloride'] != 'remove', ['Date','Station', 'Chloride', 'matplotDate']]"
   ]
  },
  {
   "cell_type": "code",
   "execution_count": 27,
   "metadata": {},
   "outputs": [
    {
     "data": {
      "text/plain": [
       "Text(0, 0.5, 'Chloride (mg/L)')"
      ]
     },
     "execution_count": 27,
     "metadata": {},
     "output_type": "execute_result"
    },
    {
     "data": {
      "image/png": "[encoded data removed]",
      "text/plain": [
       "<Figure size 1440x360 with 1 Axes>"
      ]
     },
     "metadata": {
      "needs_background": "light"
     },
     "output_type": "display_data"
    }
   ],
   "source": [
    "#This section creates a date plot of chloride data (across all stations) from 1970-2019,\n",
    "#with a modified frame height/width and marker color, and x- and y-axis labels and a title. \n",
    "plt.rc('figure', figsize = (20, 5))\n",
    "fig1, ax = plt.subplots()\n",
    "ax.plot_date(singledf.matplotDate, singledf.Chloride, xdate = True, color='g')\n",
    "ax.set_title('Chloride concentrations in Chicago streams, 1970-2019')\n",
    "ax.set_xlabel('Date')\n",
    "ax.set_ylabel('Chloride (mg/L)')"
   ]
  },
  {
   "cell_type": "code",
   "execution_count": 28,
   "metadata": {},
   "outputs": [
    {
     "name": "stderr",
     "output_type": "stream",
     "text": [
      "C:\\Users\\mmcke\\anaconda3\\lib\\site-packages\\ipykernel_launcher.py:8: DeprecationWarning: The default dtype for empty Series will be 'object' instead of 'float64' in a future version. Specify a dtype explicitly to silence this warning.\n",
      "  \n",
      "C:\\Users\\mmcke\\anaconda3\\lib\\site-packages\\ipykernel_launcher.py:9: DeprecationWarning: The default dtype for empty Series will be 'object' instead of 'float64' in a future version. Specify a dtype explicitly to silence this warning.\n",
      "  if __name__ == '__main__':\n",
      "C:\\Users\\mmcke\\anaconda3\\lib\\site-packages\\ipykernel_launcher.py:12: SettingWithCopyWarning: \n",
      "A value is trying to be set on a copy of a slice from a DataFrame\n",
      "\n",
      "See the caveats in the documentation: https://pandas.pydata.org/pandas-docs/stable/user_guide/indexing.html#returning-a-view-versus-a-copy\n",
      "  if sys.path[0] == '':\n",
      "C:\\Users\\mmcke\\anaconda3\\lib\\site-packages\\ipykernel_launcher.py:14: SettingWithCopyWarning: \n",
      "A value is trying to be set on a copy of a slice from a DataFrame\n",
      "\n",
      "See the caveats in the documentation: https://pandas.pydata.org/pandas-docs/stable/user_guide/indexing.html#returning-a-view-versus-a-copy\n",
      "  \n"
     ]
    }
   ],
   "source": [
    "#next: subset singledf for each month.\n",
    "#This section makes two new columns, year, and month, and fills them from the datetime so that\n",
    "#data can be filtered by month or year.\n",
    "#it also counts the number of successes (m) and failures (n, from try/except) of this operation.\n",
    "\n",
    "m = 1\n",
    "n = 1\n",
    "singledf['year'] = pd.Series()\n",
    "singledf['month'] = pd.Series()\n",
    "for i in range(0, len(singledf)):\n",
    "    try:\n",
    "        singledf['year'][i] = singledf.Date[i].year\n",
    "        m = m+1\n",
    "        singledf['month'][i] = singledf.Date[i].month\n",
    "    except KeyError as err:\n",
    "        n = n+1"
   ]
  },
  {
   "cell_type": "code",
   "execution_count": 29,
   "metadata": {},
   "outputs": [
    {
     "data": {
      "text/plain": [
       "27282"
      ]
     },
     "execution_count": 29,
     "metadata": {},
     "output_type": "execute_result"
    }
   ],
   "source": [
    "m"
   ]
  },
  {
   "cell_type": "code",
   "execution_count": 30,
   "metadata": {},
   "outputs": [
    {
     "data": {
      "text/plain": [
       "408"
      ]
     },
     "execution_count": 30,
     "metadata": {},
     "output_type": "execute_result"
    }
   ],
   "source": [
    "n"
   ]
  },
  {
   "cell_type": "code",
   "execution_count": 31,
   "metadata": {},
   "outputs": [],
   "source": [
    "#this section creates a new dataframe for each month, containing only data from that month (over all ~50 years)\n",
    "jan_df = singledf.loc[singledf['month'] == 1, ['Date', 'Station', 'Chloride', 'matplotDate', 'year', 'month']]\n",
    "feb_df = singledf.loc[singledf['month'] == 2, ['Date', 'Station', 'Chloride', 'matplotDate', 'year', 'month']]\n",
    "mar_df = singledf.loc[singledf['month'] == 3, ['Date', 'Station', 'Chloride', 'matplotDate', 'year', 'month']]\n",
    "apr_df = singledf.loc[singledf['month'] == 4, ['Date', 'Station', 'Chloride', 'matplotDate', 'year', 'month']]\n",
    "may_df = singledf.loc[singledf['month'] == 5, ['Date', 'Station', 'Chloride', 'matplotDate', 'year', 'month']]\n",
    "jun_df = singledf.loc[singledf['month'] == 6, ['Date', 'Station', 'Chloride', 'matplotDate', 'year', 'month']]\n",
    "jul_df = singledf.loc[singledf['month'] == 7, ['Date', 'Station', 'Chloride', 'matplotDate', 'year', 'month']]\n",
    "aug_df = singledf.loc[singledf['month'] == 8, ['Date', 'Station', 'Chloride', 'matplotDate', 'year', 'month']]\n",
    "sep_df = singledf.loc[singledf['month'] == 9, ['Date', 'Station', 'Chloride', 'matplotDate', 'year', 'month']]\n",
    "oct_df = singledf.loc[singledf['month'] == 10, ['Date', 'Station', 'Chloride', 'matplotDate', 'year', 'month']]\n",
    "nov_df = singledf.loc[singledf['month'] == 11, ['Date', 'Station', 'Chloride', 'matplotDate', 'year', 'month']]\n",
    "dec_df = singledf.loc[singledf['month'] == 12, ['Date', 'Station', 'Chloride', 'matplotDate', 'year', 'month']]"
   ]
  },
  {
   "cell_type": "code",
   "execution_count": 32,
   "metadata": {},
   "outputs": [],
   "source": [
    "#this section creates a tuple, monthly_data, with the Chloride data for each month\n",
    "#what if I force it to be a different structure?\n",
    "\n",
    "monthly_data = jan_df['Chloride'], feb_df['Chloride'], mar_df['Chloride'], apr_df['Chloride'],\\\n",
    "may_df['Chloride'], jun_df['Chloride'], jul_df['Chloride'], aug_df['Chloride'], sep_df['Chloride'],\\\n",
    "oct_df['Chloride'], nov_df['Chloride'], dec_df['Chloride']\n",
    "\n",
    "#list of lists: boxplot still works, violinplot still gives key error\n",
    "#monthly_data = [jan_df['Chloride'], feb_df['Chloride'], mar_df['Chloride'], apr_df['Chloride'],\\\n",
    "#may_df['Chloride'], jun_df['Chloride'], jul_df['Chloride'], aug_df['Chloride'], sep_df['Chloride'],\\\n",
    "#oct_df['Chloride'], nov_df['Chloride'], dec_df['Chloride']]\n",
    "\n",
    "#how to make each Series a column in a dataframe? not this way...\n",
    "#monthly_data = pd.DataFrame([jan_df['Chloride']], [feb_df['Chloride']])\n",
    "                            #, [mar_df['Chloride']],\\\n",
    "                            #[apr_df['Chloride']], [may_df['Chloride']] \n",
    "#[jun_df['Chloride']])\n",
    "                            #[jul_df['Chloride']], [aug_df['Chloride']], [sep_df['Chloride']],\\\n",
    "                            #[oct_df['Chloride']], [nov_df['Chloride']], [dec_df['Chloride']])"
   ]
  },
  {
   "cell_type": "code",
   "execution_count": 33,
   "metadata": {},
   "outputs": [
    {
     "data": {
      "text/plain": [
       "{'whiskers': [<matplotlib.lines.Line2D at 0x211f8ac6ac8>,\n",
       "  <matplotlib.lines.Line2D at 0x211f8ac6c48>,\n",
       "  <matplotlib.lines.Line2D at 0x211f8afad08>,\n",
       "  <matplotlib.lines.Line2D at 0x211f8afa948>,\n",
       "  <matplotlib.lines.Line2D at 0x211f8acd308>,\n",
       "  <matplotlib.lines.Line2D at 0x211fa869d48>,\n",
       "  <matplotlib.lines.Line2D at 0x211fb073888>,\n",
       "  <matplotlib.lines.Line2D at 0x211fb3b06c8>,\n",
       "  <matplotlib.lines.Line2D at 0x211fb186e08>,\n",
       "  <matplotlib.lines.Line2D at 0x211fa869dc8>,\n",
       "  <matplotlib.lines.Line2D at 0x211fb1b3888>,\n",
       "  <matplotlib.lines.Line2D at 0x211fb1b3248>,\n",
       "  <matplotlib.lines.Line2D at 0x211fb032048>,\n",
       "  <matplotlib.lines.Line2D at 0x211fb1e0c88>,\n",
       "  <matplotlib.lines.Line2D at 0x211fb19f3c8>,\n",
       "  <matplotlib.lines.Line2D at 0x211fb19f208>,\n",
       "  <matplotlib.lines.Line2D at 0x211fb186f88>,\n",
       "  <matplotlib.lines.Line2D at 0x211fb018588>,\n",
       "  <matplotlib.lines.Line2D at 0x211f8eea988>,\n",
       "  <matplotlib.lines.Line2D at 0x211f8eeae48>,\n",
       "  <matplotlib.lines.Line2D at 0x211f931f4c8>,\n",
       "  <matplotlib.lines.Line2D at 0x211f931f948>,\n",
       "  <matplotlib.lines.Line2D at 0x211f8f17f88>,\n",
       "  <matplotlib.lines.Line2D at 0x211f8f175c8>],\n",
       " 'caps': [<matplotlib.lines.Line2D at 0x211f91cff48>,\n",
       "  <matplotlib.lines.Line2D at 0x211f91cfc08>,\n",
       "  <matplotlib.lines.Line2D at 0x211f8ad9e48>,\n",
       "  <matplotlib.lines.Line2D at 0x211f8ad7c48>,\n",
       "  <matplotlib.lines.Line2D at 0x211fa84e748>,\n",
       "  <matplotlib.lines.Line2D at 0x211f92b6cc8>,\n",
       "  <matplotlib.lines.Line2D at 0x211fb04c448>,\n",
       "  <matplotlib.lines.Line2D at 0x211fb073c88>,\n",
       "  <matplotlib.lines.Line2D at 0x211fb186748>,\n",
       "  <matplotlib.lines.Line2D at 0x211fa84e888>,\n",
       "  <matplotlib.lines.Line2D at 0x211fb1b3f88>,\n",
       "  <matplotlib.lines.Line2D at 0x211fb1b7a08>,\n",
       "  <matplotlib.lines.Line2D at 0x211fb032b08>,\n",
       "  <matplotlib.lines.Line2D at 0x211fb032908>,\n",
       "  <matplotlib.lines.Line2D at 0x211fb199748>,\n",
       "  <matplotlib.lines.Line2D at 0x211fb199108>,\n",
       "  <matplotlib.lines.Line2D at 0x211fb0182c8>,\n",
       "  <matplotlib.lines.Line2D at 0x211fb022908>,\n",
       "  <matplotlib.lines.Line2D at 0x211f92fd4c8>,\n",
       "  <matplotlib.lines.Line2D at 0x211f8f15a88>,\n",
       "  <matplotlib.lines.Line2D at 0x211f9320608>,\n",
       "  <matplotlib.lines.Line2D at 0x211f931e708>,\n",
       "  <matplotlib.lines.Line2D at 0x211f8ef8988>,\n",
       "  <matplotlib.lines.Line2D at 0x211f8f0dfc8>],\n",
       " 'boxes': [<matplotlib.lines.Line2D at 0x211faadc408>,\n",
       "  <matplotlib.lines.Line2D at 0x211f8ad2248>,\n",
       "  <matplotlib.lines.Line2D at 0x211f8acdec8>,\n",
       "  <matplotlib.lines.Line2D at 0x211fb073248>,\n",
       "  <matplotlib.lines.Line2D at 0x211fb1b1f88>,\n",
       "  <matplotlib.lines.Line2D at 0x211fb1a9208>,\n",
       "  <matplotlib.lines.Line2D at 0x211fb1e0f08>,\n",
       "  <matplotlib.lines.Line2D at 0x211fb1be208>,\n",
       "  <matplotlib.lines.Line2D at 0x211fb1a6508>,\n",
       "  <matplotlib.lines.Line2D at 0x211fb1a9108>,\n",
       "  <matplotlib.lines.Line2D at 0x211f931f408>,\n",
       "  <matplotlib.lines.Line2D at 0x211f8f17d88>],\n",
       " 'medians': [<matplotlib.lines.Line2D at 0x211f8ac7608>,\n",
       "  <matplotlib.lines.Line2D at 0x211f8ad7708>,\n",
       "  <matplotlib.lines.Line2D at 0x211f92b6dc8>,\n",
       "  <matplotlib.lines.Line2D at 0x211fb1a6ac8>,\n",
       "  <matplotlib.lines.Line2D at 0x211fb1bff88>,\n",
       "  <matplotlib.lines.Line2D at 0x211fb1b78c8>,\n",
       "  <matplotlib.lines.Line2D at 0x211fb1be348>,\n",
       "  <matplotlib.lines.Line2D at 0x211faf681c8>,\n",
       "  <matplotlib.lines.Line2D at 0x211fb168208>,\n",
       "  <matplotlib.lines.Line2D at 0x211f92fd908>,\n",
       "  <matplotlib.lines.Line2D at 0x211f9320748>,\n",
       "  <matplotlib.lines.Line2D at 0x211f8ef81c8>],\n",
       " 'fliers': [],\n",
       " 'means': []}"
      ]
     },
     "execution_count": 33,
     "metadata": {},
     "output_type": "execute_result"
    },
    {
     "data": {
      "image/png": "[encoded data removed]",
      "text/plain": [
       "<Figure size 720x576 with 1 Axes>"
      ]
     },
     "metadata": {
      "needs_background": "light"
     },
     "output_type": "display_data"
    }
   ],
   "source": [
    "#this section creates a boxplot showing summary statistics for all years, by month, revealing a general trend\n",
    "#of peak concentrations in Feb and March, and lower concentrations in summer and early fall months.\n",
    "\n",
    "plt.rc('figure', figsize = (10, 8))\n",
    "fig2, ax2 = plt.subplots()\n",
    "ax2.set_title('Chloride concentrations in Chicago are highest in February')\n",
    "ax2.set_xlabel('Month')\n",
    "ax2.set_ylabel('Chloride (mg/L)')\n",
    "ax2.boxplot(monthly_data, showfliers = False)"
   ]
  },
  {
   "cell_type": "code",
   "execution_count": 34,
   "metadata": {},
   "outputs": [],
   "source": [
    "#this section creates a new dictionary of dataframes for each station\n",
    "dictByStation = dict()\n",
    "listOfStations = list(singledf.Station.unique())\n",
    "for stationNumber in listOfStations:\n",
    "    dictByStation[stationNumber] = singledf.loc[singledf['Station'] == stationNumber,\\\n",
    "                                 ['Date', 'Station', 'Chloride', 'matplotDate', 'year', 'month']]"
   ]
  },
  {
   "cell_type": "code",
   "execution_count": 35,
   "metadata": {},
   "outputs": [
    {
     "data": {
      "text/plain": [
       "101      (1, 10)\n",
       "13       (1, 25)\n",
       "14       (1, 26)\n",
       "15       (1, 27)\n",
       "16       (1, 28)\n",
       "26       (1, 44)\n",
       "27       (1, 45)\n",
       "29       (1, 47)\n",
       "47       (1, 60)\n",
       "36       (1, 61)\n",
       "53       (1, 67)\n",
       "54       (1, 68)\n",
       "55       (1, 69)\n",
       "56       (1, 70)\n",
       "57       (1, 71)\n",
       "58       (1, 72)\n",
       "100     (2, 107)\n",
       "102     (2, 113)\n",
       "2        (5, 14)\n",
       "3        (5, 15)\n",
       "4        (5, 16)\n",
       "21       (5, 33)\n",
       "34       (5, 38)\n",
       "42       (5, 53)\n",
       "51       (5, 65)\n",
       "52       (5, 66)\n",
       "72       (6, 82)\n",
       "69       (6, 85)\n",
       "81        (7, 1)\n",
       "82        (7, 2)\n",
       "78        (7, 3)\n",
       "74        (7, 4)\n",
       "75        (7, 5)\n",
       "79        (7, 6)\n",
       "77        (7, 7)\n",
       "76        (7, 8)\n",
       "80        (7, 9)\n",
       "85      (8, 112)\n",
       "90      (9, 111)\n",
       "99       (9, 97)\n",
       "97     (12, 101)\n",
       "96     (12, 102)\n",
       "95     (12, 103)\n",
       "94     (12, 104)\n",
       "93     (12, 105)\n",
       "98     (12, 106)\n",
       "63     (13, 8.4)\n",
       "91      (15, 91)\n",
       "92      (15, 96)\n",
       "89     (16, 110)\n",
       "86      (16, 92)\n",
       "87      (16, 99)\n",
       "88     (18, 109)\n",
       "83     (19, 100)\n",
       "84     (19, 108)\n",
       "40      (19, 51)\n",
       "49      (24, 63)\n",
       "73      (24, 86)\n",
       "71      (24, 89)\n",
       "18      (26, 30)\n",
       "9       (28, 21)\n",
       "70      (28, 90)\n",
       "22      (32, 34)\n",
       "50      (32, 64)\n",
       "66      (32, 74)\n",
       "62      (32, 80)\n",
       "17      (33, 29)\n",
       "28      (33, 46)\n",
       "37      (35, 49)\n",
       "1       (36, 13)\n",
       "5       (36, 17)\n",
       "8       (36, 20)\n",
       "12      (36, 24)\n",
       "20      (36, 31)\n",
       "19      (36, 32)\n",
       "23      (36, 35)\n",
       "35      (36, 39)\n",
       "24      (36, 40)\n",
       "30      (36, 42)\n",
       "39      (36, 50)\n",
       "41      (36, 52)\n",
       "43      (36, 54)\n",
       "38      (36, 55)\n",
       "46      (36, 58)\n",
       "33      (37, 37)\n",
       "59      (37, 77)\n",
       "60      (38, 78)\n",
       "61      (38, 79)\n",
       "0       (39, 12)\n",
       "64      (39, 48)\n",
       "65      (39, 73)\n",
       "67      (39, 75)\n",
       "68      (39, 76)\n",
       "7       (42, 19)\n",
       "10      (42, 22)\n",
       "11      (42, 23)\n",
       "6       (43, 18)\n",
       "32      (43, 36)\n",
       "25      (43, 41)\n",
       "31      (43, 43)\n",
       "44      (43, 56)\n",
       "45      (43, 57)\n",
       "48      (43, 59)\n",
       "dtype: object"
      ]
     },
     "execution_count": 35,
     "metadata": {},
     "output_type": "execute_result"
    }
   ],
   "source": [
    "#this records the number of years of data recorded at each station, matched to station,\n",
    "#and sorts from least to most, which I'll use to determine the minimum years of data \n",
    "#to require for inclusion in figure 4.\n",
    "stationObsYears = list()\n",
    "for key in dictByStation:\n",
    "    x = len(dictByStation[key].year.unique())\n",
    "    y = key \n",
    "    stationObsYears.append((x,y))\n",
    "stationObs_df = pd.Series(stationObsYears)\n",
    "stationObs_df.sort_values()"
   ]
  },
  {
   "cell_type": "code",
   "execution_count": 36,
   "metadata": {},
   "outputs": [
    {
     "data": {
      "image/png": "[encoded data removed]",
      "text/plain": [
       "<Figure size 1440x720 with 42 Axes>"
      ]
     },
     "metadata": {
      "needs_background": "light"
     },
     "output_type": "display_data"
    }
   ],
   "source": [
    "#creates a 7x6 array of plots, with each plot representing the chloride measurements at one station from 1970-2019\n",
    "#limited to stations with at least 20 years of data\n",
    "#plot array padding accomodates subplot title indicating station number\n",
    "#marker size reduced for clarity\n",
    "\n",
    "plt.rc('figure', figsize = (20, 10))\n",
    "fig3, ax3 = plt.subplots(7, 6, sharex = True, sharey = True)\n",
    "plt.subplots_adjust(hspace=0.6)\n",
    "i = 0\n",
    "j = 0\n",
    "for key in dictByStation:\n",
    "    if len(dictByStation[key].year.unique()) > 20:\n",
    "        if i < 6:\n",
    "            ax3[j][i].plot_date(dictByStation[key].matplotDate, dictByStation[key].Chloride, xdate = True,\\\n",
    "                                 color='g', ms=2)\n",
    "            ax3[j][i].set_title('Station ' + key)\n",
    "            ax3[j][i].set_xlabel('Date')\n",
    "            if j ==0 and i ==0:\n",
    "                ax3[j][i].set_ylabel('Chloride (mg/L)')\n",
    "            i = i + 1\n",
    "        else: \n",
    "            i = 0\n",
    "            j = j + 1\n",
    "            ax3[j][i].plot_date(dictByStation[key].matplotDate, dictByStation[key].Chloride, xdate = True,\\\n",
    "                                 color='g', ms=2)\n",
    "            ax3[j][i].set_title('Station ' + key)\n",
    "            ax3[j][i].set_xlabel('Date')\n",
    "            ax3[j][i].set_ylabel('Chloride (mg/L)')"
   ]
  }
 ],
 "metadata": {
  "kernelspec": {
   "display_name": "Python 3",
   "language": "python",
   "name": "python3"
  },
  "language_info": {
   "codemirror_mode": {
    "name": "ipython",
    "version": 3
   },
   "file_extension": ".py",
   "mimetype": "text/x-python",
   "name": "python",
   "nbconvert_exporter": "python",
   "pygments_lexer": "ipython3",
   "version": "3.7.6"
  }
 },
 "nbformat": 4,
 "nbformat_minor": 4
}
